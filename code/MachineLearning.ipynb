{
  "nbformat": 4,
  "nbformat_minor": 0,
  "metadata": {
    "colab": {
      "provenance": [],
      "collapsed_sections": [],
      "authorship_tag": "ABX9TyPzfRhedsRek2W0Bdk6nK+m",
      "include_colab_link": true
    },
    "kernelspec": {
      "name": "python3",
      "display_name": "Python 3"
    },
    "language_info": {
      "name": "python"
    },
    "accelerator": "GPU",
    "gpuClass": "standard"
  },
  "cells": [
    {
      "cell_type": "markdown",
      "metadata": {
        "id": "view-in-github",
        "colab_type": "text"
      },
      "source": [
        "<a href=\"https://colab.research.google.com/github/JoMihye/Project/blob/master/MachineLearning.ipynb\" target=\"_parent\"><img src=\"https://colab.research.google.com/assets/colab-badge.svg\" alt=\"Open In Colab\"/></a>"
      ]
    },
    {
      "cell_type": "markdown",
      "source": [
        "# (1) Imports"
      ],
      "metadata": {
        "id": "5dwe1HKZq9uB"
      }
    },
    {
      "cell_type": "code",
      "execution_count": null,
      "metadata": {
        "id": "2S8aErpQq19w"
      },
      "outputs": [],
      "source": [
        "import numpy as np\n",
        "import matplotlib.pyplot as plt\n",
        "import os\n",
        "import cv2\n",
        "import sklearn"
      ]
    },
    {
      "cell_type": "markdown",
      "source": [
        "# (2) Image 불러오기"
      ],
      "metadata": {
        "id": "gPhzwkrKzM0K"
      }
    },
    {
      "cell_type": "code",
      "source": [
        "from google.colab import drive\n",
        "drive.mount('/content/gdrive')"
      ],
      "metadata": {
        "colab": {
          "base_uri": "https://localhost:8080/"
        },
        "id": "Y4JG-1IJrQZK",
        "outputId": "a9a007d6-fafc-4cf3-cd39-98f774471adb"
      },
      "execution_count": null,
      "outputs": [
        {
          "output_type": "stream",
          "name": "stdout",
          "text": [
            "Mounted at /content/gdrive\n"
          ]
        }
      ]
    },
    {
      "cell_type": "code",
      "source": [
        "file_path = '/content/gdrive/MyDrive/ColabNotebooks/darknet/apple'\n",
        "path = './'\n",
        "os.chdir(file_path)  # Apple Image가 있는 폴더로 경로 변경\n",
        "file_lst = os.listdir(path)  # 지정한 폴더 내의 모든 파일 리스트를 저장"
      ],
      "metadata": {
        "id": "wNeovekEzcV-"
      },
      "execution_count": null,
      "outputs": []
    },
    {
      "cell_type": "code",
      "source": [
        "apple_lst = []\n",
        "for file in file_lst:\n",
        "    apple_lst.append(plt.imread(file))"
      ],
      "metadata": {
        "id": "MsapWgf91DBi"
      },
      "execution_count": null,
      "outputs": []
    },
    {
      "cell_type": "code",
      "source": [
        "os.chdir('/content/gdrive/MyDrive/ColabNotebooks/darknet/custom/')"
      ],
      "metadata": {
        "id": "wDpSpW721dB3"
      },
      "execution_count": null,
      "outputs": []
    },
    {
      "cell_type": "markdown",
      "source": [
        "# (3) X, y"
      ],
      "metadata": {
        "id": "CgJc7mgP2MCB"
      }
    },
    {
      "cell_type": "markdown",
      "source": [
        "* 정상 사과(0)와 병든 사과(1) 각각 500개 중 80%를 train set, 20%를 test set으로 설정\n",
        "* txt 파일로 저장"
      ],
      "metadata": {
        "id": "AUiLkYdJ2Q7t"
      }
    },
    {
      "cell_type": "code",
      "source": [
        "# # train, test txt file\n",
        "# import random as rd\n",
        "\n",
        "# all_num = list(np.arange(1, 501))\n",
        "# train_num = rd.sample(all_num, int(len(all_num) * 0.8))\n",
        "# test_num = list(set(all_num).difference(train_num))\n",
        "# f = open('train.txt', 'w') # train.txt 생성\n",
        "# for i in range(0,2):\n",
        "#     for n in train_num:\n",
        "#         data = path + 'apple_' + str(i) +'_' + format(n, '03') + '.jpg\\n'\n",
        "#         f.write(data)\n",
        "# f.close()\n",
        "\n",
        "# f = open('test.txt', 'w') # test.txt 생성\n",
        "# for i in range(0,2):\n",
        "#     for n in test_num:\n",
        "#         data = path + 'apple_' + str(i) +'_' + format(n, '03') + '.jpg\\n'\n",
        "#         f.write(data)\n",
        "# f.close()"
      ],
      "metadata": {
        "id": "ej3moT1t2QNd"
      },
      "execution_count": null,
      "outputs": []
    },
    {
      "cell_type": "code",
      "source": [
        "X_tr = []\n",
        "with open('train.txt', mode='rt') as f:\n",
        "    for line in f:\n",
        "        l = line.strip()\n",
        "        train_num = file_path + '/' + l[-15:]\n",
        "        X_tr.append(cv2.imread(train_num))\n",
        "X_tr = np.asarray(X_tr)"
      ],
      "metadata": {
        "id": "roSST4RZ2OVI"
      },
      "execution_count": null,
      "outputs": []
    },
    {
      "cell_type": "code",
      "source": [
        "X_te = []\n",
        "with open('test.txt', mode='rt') as f:\n",
        "    for line in f:\n",
        "        l = line.strip()\n",
        "        test_num = file_path + '/' + l[-15:]\n",
        "        X_te.append(cv2.imread(test_num))\n",
        "X_te = np.asarray(X_te)"
      ],
      "metadata": {
        "id": "Yl2V8Fbi4o4m"
      },
      "execution_count": null,
      "outputs": []
    },
    {
      "cell_type": "code",
      "source": [
        "y_tr = []\n",
        "with open('train.txt', mode='rt') as f:\n",
        "    for line in f:\n",
        "        a = line.strip()\n",
        "        y_tr.append(int(a[-9:-8]))\n",
        "y_tr = np.asarray(y_tr)"
      ],
      "metadata": {
        "id": "a40xTi5u4rhm"
      },
      "execution_count": null,
      "outputs": []
    },
    {
      "cell_type": "code",
      "source": [
        "y_te = []\n",
        "with open('test.txt', mode='rt') as f:\n",
        "    for line in f:\n",
        "        a = line.strip()\n",
        "        y_te.append(int(a[-9:-8]))\n",
        "y_te = np.asarray(y_te)"
      ],
      "metadata": {
        "id": "7unmoKk_5PKA"
      },
      "execution_count": null,
      "outputs": []
    },
    {
      "cell_type": "code",
      "source": [
        "print(X_tr.shape, X_te.shape, y_tr.shape, y_te.shape)"
      ],
      "metadata": {
        "colab": {
          "base_uri": "https://localhost:8080/"
        },
        "id": "5PzifvKs5Zyr",
        "outputId": "86f63a14-0118-45fb-c265-2be5a7355835"
      },
      "execution_count": null,
      "outputs": [
        {
          "output_type": "stream",
          "name": "stdout",
          "text": [
            "(800, 256, 256, 3) (200, 256, 256, 3) (800,) (200,)\n"
          ]
        }
      ]
    },
    {
      "cell_type": "code",
      "source": [
        "# Scaling (0 ~ 255 -> [0, 1) int)\n",
        "X_tr = X_tr / 255\n",
        "X_te = X_te / 255"
      ],
      "metadata": {
        "id": "HTKjfMto5iIQ"
      },
      "execution_count": null,
      "outputs": []
    },
    {
      "cell_type": "code",
      "source": [
        "# 분석을 위해 배열의 차원을 4차원에서 2차원으로 축소\n",
        "X_tr_rs = X_tr.reshape(800, -1)\n",
        "X_te_rs = X_te.reshape(200, -1)\n",
        "print(X_tr_rs.shape, X_te_rs.shape)"
      ],
      "metadata": {
        "colab": {
          "base_uri": "https://localhost:8080/"
        },
        "id": "86t77_l_56Ic",
        "outputId": "f294be8c-48fa-40ee-9591-848003302dd3"
      },
      "execution_count": null,
      "outputs": [
        {
          "output_type": "stream",
          "name": "stdout",
          "text": [
            "(800, 196608) (200, 196608)\n"
          ]
        }
      ]
    },
    {
      "cell_type": "markdown",
      "source": [
        "# (4) Classification model"
      ],
      "metadata": {
        "id": "6NV9QPqL61jW"
      }
    },
    {
      "cell_type": "markdown",
      "source": [
        "## 1. K-Nearest Neighbor"
      ],
      "metadata": {
        "id": "pYquIFHG69pF"
      }
    },
    {
      "cell_type": "code",
      "source": [
        "from sklearn.neighbors import KNeighborsClassifier\n",
        "knn = KNeighborsClassifier(n_jobs=-1)\n",
        "knn.fit(X_tr_rs, y_tr)\n",
        "print('=== KNeighborsClassifier n_neighbors = 5 (default) ===')\n",
        "print('KNN Score (Train) :', knn.score(X_tr_rs, y_tr))  # train score: 0.70125\n",
        "print('KNN Score (Test) :', knn.score(X_te_rs, y_te))  # test score: 0.635"
      ],
      "metadata": {
        "id": "Yd9nTu0B6wkX",
        "colab": {
          "base_uri": "https://localhost:8080/"
        },
        "outputId": "7a40140a-ae40-4d03-ac0f-92f608a9d35f"
      },
      "execution_count": null,
      "outputs": [
        {
          "output_type": "stream",
          "name": "stdout",
          "text": [
            "=== KNeighborsClassifier n_neighbors = 5 (default) ===\n",
            "KNN Score (Train) : 0.70125\n",
            "KNN Score (Test) : 0.635\n"
          ]
        }
      ]
    },
    {
      "cell_type": "code",
      "source": [
        "# KNN plot - neighbors 개수에 따른 score 시각화\n",
        "tr_score = []\n",
        "te_score = []\n",
        "neighbors = range(1, 11)\n",
        "for x in neighbors:\n",
        "    knn = KNeighborsClassifier(n_jobs=-1, n_neighbors=x)\n",
        "    knn.fit(X_tr_rs, y_tr)\n",
        "    tr_score.append(knn.score(X_tr_rs, y_tr))\n",
        "    te_score.append(knn.score(X_te_rs, y_te))\n",
        "\n",
        "plt.plot(neighbors, tr_score, label='Train Score')\n",
        "plt.plot(neighbors, te_score, label='Test Score')\n",
        "for i in range(len(tr_score)):\n",
        "    plt.text(neighbors[i], ( tr_score[i] + te_score[i] )/ 2 , f'Diff : \\n{round((tr_score[i] - te_score[i]), 4)}', color='green')\n",
        "plt.show()\n",
        "# n=4 ⇒ low diff & high accuracy (과대적합이 적고, 정확도가 높음) ∴ best"
      ],
      "metadata": {
        "colab": {
          "base_uri": "https://localhost:8080/",
          "height": 265
        },
        "id": "EdLVa7GWSY8m",
        "outputId": "c0ddf2e9-726d-469d-c836-79c8de1cae63"
      },
      "execution_count": null,
      "outputs": [
        {
          "output_type": "display_data",
          "data": {
            "text/plain": [
              "<Figure size 432x288 with 1 Axes>"
            ],
            "image/png": "[encoded data removed]"
          },
          "metadata": {
            "needs_background": "light"
          }
        }
      ]
    },
    {
      "cell_type": "code",
      "source": [
        "knn = KNeighborsClassifier(n_neighbors=4, n_jobs=-1)\n",
        "knn.fit(X_tr_rs, y_tr)\n",
        "print('=== KNeighbors Classifier n_neighbors = 4 (best) ===')\n",
        "print('KNN Score (Train) :', knn.score(X_tr_rs, y_tr)) # train score : 0.785\n",
        "print('KNN Score (Test) :', knn.score(X_te_rs, y_te)) # test score : 0.69"
      ],
      "metadata": {
        "colab": {
          "base_uri": "https://localhost:8080/"
        },
        "id": "gqaPBKk2UAy4",
        "outputId": "d4b67e1e-47f2-4d83-fab4-722463c7b55a"
      },
      "execution_count": null,
      "outputs": [
        {
          "output_type": "stream",
          "name": "stdout",
          "text": [
            "=== KNeighbors Classifier n_neighbors = 4 (best) ===\n",
            "KNN Score (Train) : 0.785\n",
            "KNN Score (Test) : 0.69\n"
          ]
        }
      ]
    },
    {
      "cell_type": "code",
      "source": [
        "# confusion matrix (train, knn)\n",
        "from sklearn.metrics import confusion_matrix, classification_report\n",
        "\n",
        "tr_pred_knn = knn.predict(X_tr_rs)\n",
        "print(confusion_matrix(y_tr, tr_pred_knn))"
      ],
      "metadata": {
        "colab": {
          "base_uri": "https://localhost:8080/"
        },
        "id": "HXzN-X8NUUXi",
        "outputId": "ce207de1-a29d-4df5-eb86-7a355855c1c7"
      },
      "execution_count": null,
      "outputs": [
        {
          "output_type": "stream",
          "name": "stdout",
          "text": [
            "[[233 167]\n",
            " [  5 395]]\n"
          ]
        }
      ]
    },
    {
      "cell_type": "code",
      "source": [
        "# classification report (train, knn)\n",
        "print(classification_report(y_tr, tr_pred_knn, target_names=['Apple','DmgApple']))"
      ],
      "metadata": {
        "colab": {
          "base_uri": "https://localhost:8080/"
        },
        "id": "Q1AScOWaUmla",
        "outputId": "7857c641-bec6-4e4f-95d5-312d5392a4a0"
      },
      "execution_count": null,
      "outputs": [
        {
          "output_type": "stream",
          "name": "stdout",
          "text": [
            "              precision    recall  f1-score   support\n",
            "\n",
            "       Apple       0.98      0.58      0.73       400\n",
            "    DmgApple       0.70      0.99      0.82       400\n",
            "\n",
            "    accuracy                           0.79       800\n",
            "   macro avg       0.84      0.79      0.78       800\n",
            "weighted avg       0.84      0.79      0.78       800\n",
            "\n"
          ]
        }
      ]
    },
    {
      "cell_type": "code",
      "source": [
        "# confusion matrix (test, knn)\n",
        "te_pred_knn = knn.predict(X_te_rs)\n",
        "print(confusion_matrix(y_te, te_pred_knn))"
      ],
      "metadata": {
        "colab": {
          "base_uri": "https://localhost:8080/"
        },
        "id": "bs85rrqLUse3",
        "outputId": "5c0425e6-23b6-42d1-880e-0eae711dd261"
      },
      "execution_count": null,
      "outputs": [
        {
          "output_type": "stream",
          "name": "stdout",
          "text": [
            "[[42 58]\n",
            " [ 4 96]]\n"
          ]
        }
      ]
    },
    {
      "cell_type": "code",
      "source": [
        "# classification report (test, knn)\n",
        "print(classification_report(y_te, te_pred_knn, target_names=['Apple','DmgApple']))"
      ],
      "metadata": {
        "colab": {
          "base_uri": "https://localhost:8080/"
        },
        "id": "irTVcfOFVb0v",
        "outputId": "221e22ba-588b-49db-cf0a-011618879732"
      },
      "execution_count": null,
      "outputs": [
        {
          "output_type": "stream",
          "name": "stdout",
          "text": [
            "              precision    recall  f1-score   support\n",
            "\n",
            "       Apple       0.91      0.42      0.58       100\n",
            "    DmgApple       0.62      0.96      0.76       100\n",
            "\n",
            "    accuracy                           0.69       200\n",
            "   macro avg       0.77      0.69      0.67       200\n",
            "weighted avg       0.77      0.69      0.67       200\n",
            "\n"
          ]
        }
      ]
    },
    {
      "cell_type": "markdown",
      "source": [
        "## 2. SGD"
      ],
      "metadata": {
        "id": "TUhzb5u87YJw"
      }
    },
    {
      "cell_type": "code",
      "source": [
        "# SGD Classifier (hinge)\n",
        "from sklearn.linear_model import SGDClassifier\n",
        "sgd = SGDClassifier(loss='hinge', max_iter=30)\n",
        "sgd.fit(X_tr_rs, y_tr)\n",
        "print('=== SGD Classifier (hinge) ===')\n",
        "print('SGD Score (Train) :', sgd.score(X_tr_rs, y_tr)) # train score : 1.0\n",
        "print('SGD Score (Test) :', sgd.score(X_te_rs, y_te)) # test score : 0.915"
      ],
      "metadata": {
        "colab": {
          "base_uri": "https://localhost:8080/"
        },
        "id": "ihE5837eVm1K",
        "outputId": "2f554c49-3b26-45d0-8a92-793315dfaa4e"
      },
      "execution_count": null,
      "outputs": [
        {
          "output_type": "stream",
          "name": "stdout",
          "text": [
            "=== SGD Classifier (hinge) ===\n",
            "SGD Score (Train) : 1.0\n",
            "SGD Score (Test) : 0.915\n"
          ]
        }
      ]
    },
    {
      "cell_type": "code",
      "source": [
        "# confusion matrix (train, sgd, 'hinge')\n",
        "tr_pred_sgd = sgd.predict(X_tr_rs) \n",
        "print(confusion_matrix(y_tr, tr_pred_sgd))"
      ],
      "metadata": {
        "colab": {
          "base_uri": "https://localhost:8080/"
        },
        "id": "FZwDR6fxXhs9",
        "outputId": "b2a37bcc-4fa4-4a32-e79d-806d1cdf2924"
      },
      "execution_count": null,
      "outputs": [
        {
          "output_type": "stream",
          "name": "stdout",
          "text": [
            "[[400   0]\n",
            " [  0 400]]\n"
          ]
        }
      ]
    },
    {
      "cell_type": "code",
      "source": [
        "# classification report (train, sgd, 'hinge')\n",
        "print(classification_report(y_tr, tr_pred_sgd, target_names=['Apple','DmgApple']))"
      ],
      "metadata": {
        "colab": {
          "base_uri": "https://localhost:8080/"
        },
        "id": "5-7pmdAeXvaC",
        "outputId": "968401f8-3b17-43e5-b868-be4153846072"
      },
      "execution_count": null,
      "outputs": [
        {
          "output_type": "stream",
          "name": "stdout",
          "text": [
            "              precision    recall  f1-score   support\n",
            "\n",
            "       Apple       1.00      1.00      1.00       400\n",
            "    DmgApple       1.00      1.00      1.00       400\n",
            "\n",
            "    accuracy                           1.00       800\n",
            "   macro avg       1.00      1.00      1.00       800\n",
            "weighted avg       1.00      1.00      1.00       800\n",
            "\n"
          ]
        }
      ]
    },
    {
      "cell_type": "code",
      "source": [
        "# confusion matrix (test, sgd, 'hinge')\n",
        "te_pred_sgd = sgd.predict(X_te_rs)\n",
        "print(confusion_matrix(y_te, te_pred_sgd))"
      ],
      "metadata": {
        "colab": {
          "base_uri": "https://localhost:8080/"
        },
        "id": "OartcLMtXxgB",
        "outputId": "052e0251-a92a-4ee8-f768-051f01499e67"
      },
      "execution_count": null,
      "outputs": [
        {
          "output_type": "stream",
          "name": "stdout",
          "text": [
            "[[93  7]\n",
            " [10 90]]\n"
          ]
        }
      ]
    },
    {
      "cell_type": "code",
      "source": [
        "# classification report (test, sgd, 'hinge')\n",
        "print(classification_report(y_te, te_pred_sgd, target_names=['Apple','DmgApple']))"
      ],
      "metadata": {
        "colab": {
          "base_uri": "https://localhost:8080/"
        },
        "id": "7McAHSL2X9iv",
        "outputId": "2a141d5f-f94a-4df1-abd4-ac86dc1e34f7"
      },
      "execution_count": null,
      "outputs": [
        {
          "output_type": "stream",
          "name": "stdout",
          "text": [
            "              precision    recall  f1-score   support\n",
            "\n",
            "       Apple       0.90      0.93      0.92       100\n",
            "    DmgApple       0.93      0.90      0.91       100\n",
            "\n",
            "    accuracy                           0.92       200\n",
            "   macro avg       0.92      0.92      0.91       200\n",
            "weighted avg       0.92      0.92      0.91       200\n",
            "\n"
          ]
        }
      ]
    },
    {
      "cell_type": "code",
      "source": [
        "# SGD Classifier (log)\n",
        "from sklearn.linear_model import SGDClassifier\n",
        "sgd = SGDClassifier(loss='log', max_iter=30)\n",
        "sgd.fit(X_tr_rs, y_tr)\n",
        "print('=== SGD Classifier (log_loss) ===')\n",
        "print('SGD Score (Train) :', sgd.score(X_tr_rs, y_tr)) # train score : 1.0\n",
        "print('SGD Score (Test) :', sgd.score(X_te_rs, y_te)) # test score : 0.89"
      ],
      "metadata": {
        "colab": {
          "base_uri": "https://localhost:8080/"
        },
        "id": "GCqE9UuUYHcE",
        "outputId": "ef3110f9-8b0a-422f-8994-14ac737bf4a1"
      },
      "execution_count": null,
      "outputs": [
        {
          "output_type": "stream",
          "name": "stdout",
          "text": [
            "=== SGD Classifier (log_loss) ===\n",
            "SGD Score (Train) : 1.0\n",
            "SGD Score (Test) : 0.89\n"
          ]
        }
      ]
    },
    {
      "cell_type": "code",
      "source": [
        "# confusion matrix (train, sgd, 'log')\n",
        "tr_pred_sgd = sgd.predict(X_tr_rs)\n",
        "print(confusion_matrix(y_tr, tr_pred_sgd))"
      ],
      "metadata": {
        "colab": {
          "base_uri": "https://localhost:8080/"
        },
        "id": "tcjR5pQGYN8X",
        "outputId": "8520e81a-c1c5-4699-a30b-ce09305affc5"
      },
      "execution_count": null,
      "outputs": [
        {
          "output_type": "stream",
          "name": "stdout",
          "text": [
            "[[400   0]\n",
            " [  0 400]]\n"
          ]
        }
      ]
    },
    {
      "cell_type": "code",
      "source": [
        "# classification report (train, sgd, 'log')\n",
        "print(classification_report(y_tr, tr_pred_sgd, target_names=['Apple','DmgApple']))"
      ],
      "metadata": {
        "colab": {
          "base_uri": "https://localhost:8080/"
        },
        "id": "1unVnu3SYSSs",
        "outputId": "6ed7d6da-1fd3-47b2-ea24-6f6f4f1c0cd2"
      },
      "execution_count": null,
      "outputs": [
        {
          "output_type": "stream",
          "name": "stdout",
          "text": [
            "              precision    recall  f1-score   support\n",
            "\n",
            "       Apple       1.00      1.00      1.00       400\n",
            "    DmgApple       1.00      1.00      1.00       400\n",
            "\n",
            "    accuracy                           1.00       800\n",
            "   macro avg       1.00      1.00      1.00       800\n",
            "weighted avg       1.00      1.00      1.00       800\n",
            "\n"
          ]
        }
      ]
    },
    {
      "cell_type": "code",
      "source": [
        "# confusion matrix (test, sgd, 'log')\n",
        "te_pred_sgd = sgd.predict(X_te_rs)\n",
        "print(confusion_matrix(y_te, te_pred_sgd))"
      ],
      "metadata": {
        "colab": {
          "base_uri": "https://localhost:8080/"
        },
        "id": "rTiQKWlHYUQW",
        "outputId": "8f78146d-9fc8-4dd7-f2b1-d65da0c8c389"
      },
      "execution_count": null,
      "outputs": [
        {
          "output_type": "stream",
          "name": "stdout",
          "text": [
            "[[88 12]\n",
            " [10 90]]\n"
          ]
        }
      ]
    },
    {
      "cell_type": "code",
      "source": [
        "# classification report (test, sgd, 'log')\n",
        "print(classification_report(y_te, te_pred_sgd, target_names=['Apple','DmgApple']))"
      ],
      "metadata": {
        "colab": {
          "base_uri": "https://localhost:8080/"
        },
        "id": "Fy-0U9ttYYcI",
        "outputId": "c654bf97-9b59-4f61-ca9f-a2b435c48df0"
      },
      "execution_count": null,
      "outputs": [
        {
          "output_type": "stream",
          "name": "stdout",
          "text": [
            "              precision    recall  f1-score   support\n",
            "\n",
            "       Apple       0.90      0.88      0.89       100\n",
            "    DmgApple       0.88      0.90      0.89       100\n",
            "\n",
            "    accuracy                           0.89       200\n",
            "   macro avg       0.89      0.89      0.89       200\n",
            "weighted avg       0.89      0.89      0.89       200\n",
            "\n"
          ]
        }
      ]
    },
    {
      "cell_type": "markdown",
      "source": [
        "## 3. Logistic Regression"
      ],
      "metadata": {
        "id": "-4O0FqG27lHB"
      }
    },
    {
      "cell_type": "code",
      "source": [
        "# Logistic Regression\n",
        "from sklearn.linear_model import LogisticRegression\n",
        "lr = LogisticRegression(n_jobs=-1, max_iter=30)\n",
        "lr.fit(X_tr_rs, y_tr)\n",
        "print('=== Logistic Regression ===')\n",
        "print('Logistic Regression Score (Train) :', lr.score(X_tr_rs, y_tr)) # train score : 1.0\n",
        "print('Logistic Regression Score (Test) :', lr.score(X_te_rs, y_te)) # test score : 0.905"
      ],
      "metadata": {
        "colab": {
          "base_uri": "https://localhost:8080/"
        },
        "id": "U387tQniYmcP",
        "outputId": "c4148b46-65c0-4274-d4de-f1a0faa6a89e"
      },
      "execution_count": null,
      "outputs": [
        {
          "output_type": "stream",
          "name": "stdout",
          "text": [
            "=== Logistic Regression ===\n",
            "Logistic Regression Score (Train) : 1.0\n",
            "Logistic Regression Score (Test) : 0.905\n"
          ]
        }
      ]
    },
    {
      "cell_type": "code",
      "source": [
        "# confusion matrix (train, logistic)\n",
        "tr_pred_lr = lr.predict(X_tr_rs)\n",
        "print(confusion_matrix(y_tr, tr_pred_lr))"
      ],
      "metadata": {
        "colab": {
          "base_uri": "https://localhost:8080/"
        },
        "id": "YcFBYB83Y8rC",
        "outputId": "230bc1a5-b25e-4de2-8ad9-f89fbeca19c0"
      },
      "execution_count": null,
      "outputs": [
        {
          "output_type": "stream",
          "name": "stdout",
          "text": [
            "[[400   0]\n",
            " [  0 400]]\n"
          ]
        }
      ]
    },
    {
      "cell_type": "code",
      "source": [
        "# classification report (train, logistic)\n",
        "print(classification_report(y_tr, tr_pred_lr, target_names=['Apple','DmgApple']))"
      ],
      "metadata": {
        "colab": {
          "base_uri": "https://localhost:8080/"
        },
        "id": "10TuYnF_ZBe1",
        "outputId": "5aa3da60-62c8-49cd-848c-118edacd76ec"
      },
      "execution_count": null,
      "outputs": [
        {
          "output_type": "stream",
          "name": "stdout",
          "text": [
            "              precision    recall  f1-score   support\n",
            "\n",
            "       Apple       1.00      1.00      1.00       400\n",
            "    DmgApple       1.00      1.00      1.00       400\n",
            "\n",
            "    accuracy                           1.00       800\n",
            "   macro avg       1.00      1.00      1.00       800\n",
            "weighted avg       1.00      1.00      1.00       800\n",
            "\n"
          ]
        }
      ]
    },
    {
      "cell_type": "code",
      "source": [
        "# confusion matrix (test, logistic)\n",
        "te_pred_lr = lr.predict(X_te_rs)\n",
        "print(confusion_matrix(y_te, te_pred_lr))"
      ],
      "metadata": {
        "colab": {
          "base_uri": "https://localhost:8080/"
        },
        "id": "V-WuNo0zZDBo",
        "outputId": "8c33cf5c-2031-4898-862f-9deb2266dc9b"
      },
      "execution_count": null,
      "outputs": [
        {
          "output_type": "stream",
          "name": "stdout",
          "text": [
            "[[91  9]\n",
            " [10 90]]\n"
          ]
        }
      ]
    },
    {
      "cell_type": "code",
      "source": [
        "# classification report (test, logistic)\n",
        "print(classification_report(y_te, te_pred_lr, target_names=['Apple','DmgApple']))"
      ],
      "metadata": {
        "colab": {
          "base_uri": "https://localhost:8080/"
        },
        "id": "XcDNCweMZFW3",
        "outputId": "639fe114-506f-481a-dc0f-c703b0b7d2ff"
      },
      "execution_count": null,
      "outputs": [
        {
          "output_type": "stream",
          "name": "stdout",
          "text": [
            "              precision    recall  f1-score   support\n",
            "\n",
            "       Apple       0.90      0.91      0.91       100\n",
            "    DmgApple       0.91      0.90      0.90       100\n",
            "\n",
            "    accuracy                           0.91       200\n",
            "   macro avg       0.91      0.91      0.90       200\n",
            "weighted avg       0.91      0.91      0.90       200\n",
            "\n"
          ]
        }
      ]
    },
    {
      "cell_type": "markdown",
      "source": [
        "# (5) PCA"
      ],
      "metadata": {
        "id": "X-1L5lOSZQ5D"
      }
    },
    {
      "cell_type": "code",
      "source": [
        "from sklearn.decomposition import PCA\n",
        "pca_rgb = []\n",
        "for i in X_tr:\n",
        "    b, g, r = cv2.split(i)\n",
        "    r = r / 255\n",
        "    g = g / 255\n",
        "    b = b / 255\n",
        "    pca_r = PCA(n_components=32)\n",
        "    pca_r_tran = pca_r.fit_transform(r)\n",
        "    pca_g = PCA(n_components=32)\n",
        "    pca_g_tran = pca_g.fit_transform(g)\n",
        "    pca_b = PCA(n_components=32)\n",
        "    pca_b_tran = pca_b.fit_transform(b)\n",
        "\n",
        "    pca_r_org = pca_r.inverse_transform(pca_r_tran)\n",
        "    pca_g_org = pca_g.inverse_transform(pca_g_tran)\n",
        "    pca_b_org = pca_b.inverse_transform(pca_b_tran)\n",
        "\n",
        "    pca_img = cv2.merge((pca_r_org, pca_g_org, pca_b_org))\n",
        "    pca_rgb.append(pca_img)"
      ],
      "metadata": {
        "id": "ak7l_so0ZX48"
      },
      "execution_count": null,
      "outputs": []
    },
    {
      "cell_type": "code",
      "source": [
        "from sklearn.decomposition import PCA\n",
        "pca_rgb_te = []\n",
        "for i in X_te:\n",
        "    b, g, r = cv2.split(i)\n",
        "    r = r / 255\n",
        "    g = g / 255\n",
        "    b = b / 255\n",
        "    pca_r = PCA(n_components=32)\n",
        "    pca_r_tran = pca_r.fit_transform(r)\n",
        "    pca_g = PCA(n_components=32)\n",
        "    pca_g_tran = pca_g.fit_transform(g)\n",
        "    pca_b = PCA(n_components=32)\n",
        "    pca_b_tran = pca_b.fit_transform(b)\n",
        "\n",
        "    pca_r_org = pca_r.inverse_transform(pca_r_tran)\n",
        "    pca_g_org = pca_g.inverse_transform(pca_g_tran)\n",
        "    pca_b_org = pca_b.inverse_transform(pca_b_tran)\n",
        "\n",
        "    pca_img = cv2.merge((pca_r_org, pca_g_org, pca_b_org))\n",
        "    pca_rgb_te.append(pca_img)"
      ],
      "metadata": {
        "id": "afJ9HRTLcEAl"
      },
      "execution_count": null,
      "outputs": []
    },
    {
      "cell_type": "code",
      "source": [
        "pca_rgb_tr = np.asarray(pca_rgb)\n",
        "pca_rgb_tr = pca_rgb_tr.reshape((800, -1))\n",
        "pca_rgb_te = np.asarray(pca_rgb_te)\n",
        "pca_rgb_te = pca_rgb_te.reshape((200, -1))\n",
        "print(pca_rgb_tr.shape, pca_rgb_te.shape)"
      ],
      "metadata": {
        "colab": {
          "base_uri": "https://localhost:8080/"
        },
        "id": "KoglhIyfcHJ0",
        "outputId": "8fb2f3d1-ed35-45ab-e462-8bd50a04cd5d"
      },
      "execution_count": null,
      "outputs": [
        {
          "output_type": "stream",
          "name": "stdout",
          "text": [
            "(800, 196608) (200, 196608)\n"
          ]
        }
      ]
    },
    {
      "cell_type": "markdown",
      "source": [
        "## 1. K-Neighbors Classifier After PCA process"
      ],
      "metadata": {
        "id": "S-b6gpeQcL1o"
      }
    },
    {
      "cell_type": "code",
      "source": [
        "knn = KNeighborsClassifier(n_neighbors=4, n_jobs=-1)\n",
        "knn.fit(pca_rgb_tr, y_tr)\n",
        "print('=== KNeighbors Classifier, n_neighbors = 4, PCA O ===')\n",
        "print('KNN Score (Train) :', knn.score(pca_rgb_tr, y_tr)) # train score : 0.795\n",
        "print('KNN Score (Test) :', knn.score(pca_rgb_te, y_te)) # test score : 0.69"
      ],
      "metadata": {
        "colab": {
          "base_uri": "https://localhost:8080/"
        },
        "id": "3Z1bxDNZcOjJ",
        "outputId": "32d3edf6-7123-44db-8f9e-fbd370102f90"
      },
      "execution_count": null,
      "outputs": [
        {
          "output_type": "stream",
          "name": "stdout",
          "text": [
            "=== KNeighbors Classifier, n_neighbors = 4, PCA O ===\n",
            "KNN Score (Train) : 0.795\n",
            "KNN Score (Test) : 0.69\n"
          ]
        }
      ]
    },
    {
      "cell_type": "code",
      "source": [
        "# confusion matrix, classification report (train, knn, PCA)\n",
        "tr_pred_knn_pca = knn.predict(pca_rgb_tr)\n",
        "print(confusion_matrix(y_tr, tr_pred_knn_pca))\n",
        "print(classification_report(y_tr, tr_pred_knn_pca, target_names=['Apple','DmgApple']))"
      ],
      "metadata": {
        "colab": {
          "base_uri": "https://localhost:8080/"
        },
        "id": "Cj9qz6HuciGv",
        "outputId": "3f894796-275d-4354-c9c1-af7cdf8e5602"
      },
      "execution_count": null,
      "outputs": [
        {
          "output_type": "stream",
          "name": "stdout",
          "text": [
            "[[242 158]\n",
            " [  6 394]]\n",
            "              precision    recall  f1-score   support\n",
            "\n",
            "       Apple       0.98      0.60      0.75       400\n",
            "    DmgApple       0.71      0.98      0.83       400\n",
            "\n",
            "    accuracy                           0.80       800\n",
            "   macro avg       0.84      0.79      0.79       800\n",
            "weighted avg       0.84      0.80      0.79       800\n",
            "\n"
          ]
        }
      ]
    },
    {
      "cell_type": "code",
      "source": [
        "# confusion matrix, classification report (test, knn, PCA)\n",
        "te_pred_knn_pca = knn.predict(pca_rgb_te)\n",
        "print(confusion_matrix(y_te, te_pred_knn_pca))\n",
        "print(classification_report(y_te, te_pred_knn_pca, target_names=['Apple','DmgApple']))"
      ],
      "metadata": {
        "colab": {
          "base_uri": "https://localhost:8080/"
        },
        "id": "ln3AYPYccnBI",
        "outputId": "f37fcd75-260c-4f69-a2a9-74747317b5ac"
      },
      "execution_count": null,
      "outputs": [
        {
          "output_type": "stream",
          "name": "stdout",
          "text": [
            "[[42 58]\n",
            " [ 4 96]]\n",
            "              precision    recall  f1-score   support\n",
            "\n",
            "       Apple       0.91      0.42      0.58       100\n",
            "    DmgApple       0.62      0.96      0.76       100\n",
            "\n",
            "    accuracy                           0.69       200\n",
            "   macro avg       0.77      0.69      0.67       200\n",
            "weighted avg       0.77      0.69      0.67       200\n",
            "\n"
          ]
        }
      ]
    },
    {
      "cell_type": "markdown",
      "source": [
        "##2. SGD Classifier After PCA process"
      ],
      "metadata": {
        "id": "8likaXDYcsuN"
      }
    },
    {
      "cell_type": "code",
      "source": [
        "sgd = SGDClassifier(loss='hinge', max_iter=30)\n",
        "sgd.fit(pca_rgb_tr, y_tr)\n",
        "print('=== SGD Classifier, PCA O (hinge) ===')\n",
        "print('SGD Score (Train) :', sgd.score(pca_rgb_tr, y_tr)) # train score : 0.97125\n",
        "print('SGD Score (Test) :', sgd.score(pca_rgb_te, y_te)) # test score : 0.92"
      ],
      "metadata": {
        "colab": {
          "base_uri": "https://localhost:8080/"
        },
        "id": "PT_ndIbTct4A",
        "outputId": "c514e4f9-eebc-454b-fb75-ce9071a18f13"
      },
      "execution_count": null,
      "outputs": [
        {
          "output_type": "stream",
          "name": "stderr",
          "text": [
            "/usr/local/lib/python3.7/dist-packages/sklearn/linear_model/_stochastic_gradient.py:700: ConvergenceWarning: Maximum number of iteration reached before convergence. Consider increasing max_iter to improve the fit.\n",
            "  ConvergenceWarning,\n"
          ]
        },
        {
          "output_type": "stream",
          "name": "stdout",
          "text": [
            "=== SGD Classifier, PCA O (hinge) ===\n",
            "SGD Score (Train) : 0.97125\n",
            "SGD Score (Test) : 0.92\n"
          ]
        }
      ]
    },
    {
      "cell_type": "code",
      "source": [
        "# confusion matrix, classification report (train, sgd, 'hinge', PCA)\n",
        "tr_pred_sgd_pca = sgd.predict(pca_rgb_tr)\n",
        "print(confusion_matrix(y_tr, tr_pred_sgd_pca))\n",
        "print(classification_report(y_tr, tr_pred_sgd_pca, target_names=['Apple','DmgApple']))"
      ],
      "metadata": {
        "colab": {
          "base_uri": "https://localhost:8080/"
        },
        "id": "_hCrkr6Vcz8V",
        "outputId": "764a3986-7159-46a4-88f5-8bd6bab99d92"
      },
      "execution_count": null,
      "outputs": [
        {
          "output_type": "stream",
          "name": "stdout",
          "text": [
            "[[399   1]\n",
            " [ 22 378]]\n",
            "              precision    recall  f1-score   support\n",
            "\n",
            "       Apple       0.95      1.00      0.97       400\n",
            "    DmgApple       1.00      0.94      0.97       400\n",
            "\n",
            "    accuracy                           0.97       800\n",
            "   macro avg       0.97      0.97      0.97       800\n",
            "weighted avg       0.97      0.97      0.97       800\n",
            "\n"
          ]
        }
      ]
    },
    {
      "cell_type": "code",
      "source": [
        "# confusion matrix, classification report (test, sgd, 'hinge', PCA)\n",
        "te_pred_sgd_pca = sgd.predict(pca_rgb_te)\n",
        "print(confusion_matrix(y_te, te_pred_sgd_pca))\n",
        "print(classification_report(y_tr, tr_pred_sgd_pca, target_names=['Apple','DmgApple']))"
      ],
      "metadata": {
        "colab": {
          "base_uri": "https://localhost:8080/"
        },
        "id": "FyY-6-23c2J2",
        "outputId": "a03eda6d-c035-4026-cbf3-e187abd82b3a"
      },
      "execution_count": null,
      "outputs": [
        {
          "output_type": "stream",
          "name": "stdout",
          "text": [
            "[[98  2]\n",
            " [14 86]]\n",
            "              precision    recall  f1-score   support\n",
            "\n",
            "       Apple       0.95      1.00      0.97       400\n",
            "    DmgApple       1.00      0.94      0.97       400\n",
            "\n",
            "    accuracy                           0.97       800\n",
            "   macro avg       0.97      0.97      0.97       800\n",
            "weighted avg       0.97      0.97      0.97       800\n",
            "\n"
          ]
        }
      ]
    },
    {
      "cell_type": "code",
      "source": [
        "sgd = SGDClassifier(loss='log', max_iter=30)\n",
        "sgd.fit(pca_rgb_tr, y_tr)\n",
        "print('=== SGD Classifier, PCA O (log) ===')\n",
        "print('SGD Score (Train) :', sgd.score(pca_rgb_tr, y_tr)) # train score : 0.94625\n",
        "print('SGD Score (Test) :', sgd.score(pca_rgb_te, y_te)) # test score : 0.915"
      ],
      "metadata": {
        "colab": {
          "base_uri": "https://localhost:8080/"
        },
        "id": "nazl9ccYc79H",
        "outputId": "4fb57a6b-4200-4679-8e7d-978b26cf90a6"
      },
      "execution_count": null,
      "outputs": [
        {
          "output_type": "stream",
          "name": "stdout",
          "text": [
            "=== SGD Classifier, PCA O (log) ===\n",
            "SGD Score (Train) : 0.94625\n",
            "SGD Score (Test) : 0.915\n"
          ]
        }
      ]
    },
    {
      "cell_type": "code",
      "source": [
        "# confusion matrix, classification report (train, sgd, 'log', PCA)\n",
        "tr_pred_sgd_pca = sgd.predict(pca_rgb_tr)\n",
        "print(confusion_matrix(y_tr, tr_pred_sgd_pca))\n",
        "print(classification_report(y_tr, tr_pred_sgd_pca, target_names=['Apple','DmgApple']))"
      ],
      "metadata": {
        "colab": {
          "base_uri": "https://localhost:8080/"
        },
        "id": "1Gbh4rXdc-b-",
        "outputId": "6de440fd-77b5-4967-e74d-303f02e177ea"
      },
      "execution_count": null,
      "outputs": [
        {
          "output_type": "stream",
          "name": "stdout",
          "text": [
            "[[399   1]\n",
            " [ 42 358]]\n",
            "              precision    recall  f1-score   support\n",
            "\n",
            "       Apple       0.90      1.00      0.95       400\n",
            "    DmgApple       1.00      0.90      0.94       400\n",
            "\n",
            "    accuracy                           0.95       800\n",
            "   macro avg       0.95      0.95      0.95       800\n",
            "weighted avg       0.95      0.95      0.95       800\n",
            "\n"
          ]
        }
      ]
    },
    {
      "cell_type": "code",
      "source": [
        "# confusion matrix, classification report (test, sgd, 'log', PCA)\n",
        "te_pred_sgd_pca = sgd.predict(pca_rgb_te)\n",
        "print(confusion_matrix(y_te, te_pred_sgd_pca))\n",
        "print(classification_report(y_tr, tr_pred_sgd_pca, target_names=['Apple','DmgApple']))"
      ],
      "metadata": {
        "colab": {
          "base_uri": "https://localhost:8080/"
        },
        "id": "IBaoXQxPdHri",
        "outputId": "1fe5fe07-9f09-45b6-9239-e41e2abda90d"
      },
      "execution_count": null,
      "outputs": [
        {
          "output_type": "stream",
          "name": "stdout",
          "text": [
            "[[99  1]\n",
            " [16 84]]\n",
            "              precision    recall  f1-score   support\n",
            "\n",
            "       Apple       0.90      1.00      0.95       400\n",
            "    DmgApple       1.00      0.90      0.94       400\n",
            "\n",
            "    accuracy                           0.95       800\n",
            "   macro avg       0.95      0.95      0.95       800\n",
            "weighted avg       0.95      0.95      0.95       800\n",
            "\n"
          ]
        }
      ]
    },
    {
      "cell_type": "markdown",
      "source": [
        "##3. Logistic Regression After PCA process"
      ],
      "metadata": {
        "id": "M2UvEv4sdLFW"
      }
    },
    {
      "cell_type": "code",
      "source": [
        "lr = LogisticRegression(max_iter=30, n_jobs=-1)\n",
        "lr.fit(pca_rgb_tr, y_tr)\n",
        "print('=== Logistic Regression, PCA O ===')\n",
        "print('Logistic Regression Score (Train) :', lr.score(pca_rgb_tr, y_tr)) # train score : 0.90375\n",
        "print('Logistic Regression Score (Test) :', lr.score(pca_rgb_te, y_te)) # test score : 0.895"
      ],
      "metadata": {
        "colab": {
          "base_uri": "https://localhost:8080/"
        },
        "id": "ulcJI7XmdMe5",
        "outputId": "e840bb4b-57ec-4f01-a8ff-3791c2cf690e"
      },
      "execution_count": null,
      "outputs": [
        {
          "output_type": "stream",
          "name": "stdout",
          "text": [
            "=== Logistic Regression, PCA O ===\n",
            "Logistic Regression Score (Train) : 0.90375\n",
            "Logistic Regression Score (Test) : 0.895\n"
          ]
        }
      ]
    },
    {
      "cell_type": "code",
      "source": [
        "# confusion matrix, classification report (train, logistic, PCA)\n",
        "tr_pred_lr_pca = lr.predict(pca_rgb_tr)\n",
        "print(confusion_matrix(y_tr, tr_pred_lr_pca))\n",
        "print(classification_report(y_tr, tr_pred_lr_pca, target_names=['Apple','DmgApple']))"
      ],
      "metadata": {
        "colab": {
          "base_uri": "https://localhost:8080/"
        },
        "id": "kkIeVX6wdX_F",
        "outputId": "c2a0ac71-e4b3-4217-bc23-603993855058"
      },
      "execution_count": null,
      "outputs": [
        {
          "output_type": "stream",
          "name": "stdout",
          "text": [
            "[[365  35]\n",
            " [ 42 358]]\n",
            "              precision    recall  f1-score   support\n",
            "\n",
            "       Apple       0.90      0.91      0.90       400\n",
            "    DmgApple       0.91      0.90      0.90       400\n",
            "\n",
            "    accuracy                           0.90       800\n",
            "   macro avg       0.90      0.90      0.90       800\n",
            "weighted avg       0.90      0.90      0.90       800\n",
            "\n"
          ]
        }
      ]
    },
    {
      "cell_type": "code",
      "source": [
        "# confusion matrix, classification report (test, logistic, PCA)\n",
        "te_pred_lr_pca = lr.predict(pca_rgb_te)\n",
        "print(confusion_matrix(y_te, te_pred_lr_pca))\n",
        "print(classification_report(y_te, te_pred_lr_pca, target_names=['Apple','DmgApple']))"
      ],
      "metadata": {
        "colab": {
          "base_uri": "https://localhost:8080/"
        },
        "id": "Q4iOmd6udbds",
        "outputId": "e518a3b9-f674-498b-c151-55d30943b95d"
      },
      "execution_count": null,
      "outputs": [
        {
          "output_type": "stream",
          "name": "stdout",
          "text": [
            "[[93  7]\n",
            " [14 86]]\n",
            "              precision    recall  f1-score   support\n",
            "\n",
            "       Apple       0.87      0.93      0.90       100\n",
            "    DmgApple       0.92      0.86      0.89       100\n",
            "\n",
            "    accuracy                           0.90       200\n",
            "   macro avg       0.90      0.90      0.89       200\n",
            "weighted avg       0.90      0.90      0.89       200\n",
            "\n"
          ]
        }
      ]
    }
  ]
}
